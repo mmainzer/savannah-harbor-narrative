{
 "cells": [
  {
   "cell_type": "code",
   "execution_count": 91,
   "metadata": {},
   "outputs": [],
   "source": [
    "import pandas as pd\n",
    "import urllib.request\n",
    "import gpxpy\n",
    "import csv\n",
    "import os\n",
    "import re\n",
    "import numpy as np\n",
    "from datetime import datetime\n",
    "import geojson\n",
    "from geopandas import GeoDataFrame\n",
    "from shapely.geometry import Point, LineString"
   ]
  },
  {
   "cell_type": "markdown",
   "metadata": {},
   "source": [
    "### This is the url to generate a response from grabhopper\n",
    "##### \"https://graphhopper.com/api/1/route?point=33.746717,-84.387596&point=45.047,-67.637&vehicle=car&locale=en&instructions=false&type=gpx&key=[YOUR_KEY]\"\n"
   ]
  },
  {
   "cell_type": "code",
   "execution_count": 2,
   "metadata": {},
   "outputs": [],
   "source": [
    "# path to county centroids with the endpoint coordinates for each route\n",
    "coordinates = pd.read_csv('top-100-metros.csv')"
   ]
  },
  {
   "cell_type": "code",
   "execution_count": 3,
   "metadata": {},
   "outputs": [],
   "source": [
    "coordinates.set_index('City', inplace=True)"
   ]
  },
  {
   "cell_type": "code",
   "execution_count": 4,
   "metadata": {},
   "outputs": [],
   "source": [
    "coordinates.rename(columns={\n",
    "    'Latitude': 'Y',\n",
    "    'Longitude': 'X'\n",
    "}, inplace=True)"
   ]
  },
  {
   "cell_type": "code",
   "execution_count": 5,
   "metadata": {},
   "outputs": [],
   "source": [
    "#### build the api call w/ the url endpoints\n",
    "\n",
    "urlStart = 'https://graphhopper.com/api/1/route?'\n",
    "point = 'point='\n",
    "urlEnd = '&vehicle=truck&locale=en&instructions=false&type=gpx&key=dfa731bb-f8c4-4b1c-974d-a2dfa0b4aa63'\n",
    "\n",
    "# the starting point for each route\n",
    "# this is the center of Fulton County, or Atlanta\n",
    "\n",
    "startY = '32.111062'\n",
    "startX = '-81.126410'"
   ]
  },
  {
   "cell_type": "code",
   "execution_count": 6,
   "metadata": {},
   "outputs": [
    {
     "data": {
      "text/html": [
       "<div>\n",
       "<style scoped>\n",
       "    .dataframe tbody tr th:only-of-type {\n",
       "        vertical-align: middle;\n",
       "    }\n",
       "\n",
       "    .dataframe tbody tr th {\n",
       "        vertical-align: top;\n",
       "    }\n",
       "\n",
       "    .dataframe thead th {\n",
       "        text-align: right;\n",
       "    }\n",
       "</style>\n",
       "<table border=\"1\" class=\"dataframe\">\n",
       "  <thead>\n",
       "    <tr style=\"text-align: right;\">\n",
       "      <th></th>\n",
       "      <th>Population</th>\n",
       "      <th>Y</th>\n",
       "      <th>X</th>\n",
       "    </tr>\n",
       "    <tr>\n",
       "      <th>City</th>\n",
       "      <th></th>\n",
       "      <th></th>\n",
       "      <th></th>\n",
       "    </tr>\n",
       "  </thead>\n",
       "  <tbody>\n",
       "    <tr>\n",
       "      <th>New York, New York</th>\n",
       "      <td>8405837</td>\n",
       "      <td>40.712784</td>\n",
       "      <td>-74.005941</td>\n",
       "    </tr>\n",
       "    <tr>\n",
       "      <th>Los Angeles, California</th>\n",
       "      <td>3884307</td>\n",
       "      <td>34.052234</td>\n",
       "      <td>-118.243685</td>\n",
       "    </tr>\n",
       "    <tr>\n",
       "      <th>Chicago, Illinois</th>\n",
       "      <td>2718782</td>\n",
       "      <td>41.878114</td>\n",
       "      <td>-87.629798</td>\n",
       "    </tr>\n",
       "    <tr>\n",
       "      <th>Houston, Texas</th>\n",
       "      <td>2195914</td>\n",
       "      <td>29.760427</td>\n",
       "      <td>-95.369803</td>\n",
       "    </tr>\n",
       "    <tr>\n",
       "      <th>Philadelphia, Pennsylvania</th>\n",
       "      <td>1553165</td>\n",
       "      <td>39.952584</td>\n",
       "      <td>-75.165222</td>\n",
       "    </tr>\n",
       "  </tbody>\n",
       "</table>\n",
       "</div>"
      ],
      "text/plain": [
       "                            Population          Y           X\n",
       "City                                                         \n",
       "New York, New York             8405837  40.712784  -74.005941\n",
       "Los Angeles, California        3884307  34.052234 -118.243685\n",
       "Chicago, Illinois              2718782  41.878114  -87.629798\n",
       "Houston, Texas                 2195914  29.760427  -95.369803\n",
       "Philadelphia, Pennsylvania     1553165  39.952584  -75.165222"
      ]
     },
     "execution_count": 6,
     "metadata": {},
     "output_type": "execute_result"
    }
   ],
   "source": [
    "coordinates.head()"
   ]
  },
  {
   "cell_type": "code",
   "execution_count": 7,
   "metadata": {},
   "outputs": [],
   "source": [
    "req = urlStart + point + startY + ',' + startX + '&' + point + str(coordinates.iloc[0,1]) + ',' + str(coordinates.iloc[0,2]) + urlEnd\n",
    "\n"
   ]
  },
  {
   "cell_type": "code",
   "execution_count": 8,
   "metadata": {},
   "outputs": [
    {
     "data": {
      "text/plain": [
       "'https://graphhopper.com/api/1/route?point=32.111062,-81.126410&point=40.712784,-74.005941&vehicle=truck&locale=en&instructions=false&type=gpx&key=dfa731bb-f8c4-4b1c-974d-a2dfa0b4aa63'"
      ]
     },
     "execution_count": 8,
     "metadata": {},
     "output_type": "execute_result"
    }
   ],
   "source": [
    "req"
   ]
  },
  {
   "cell_type": "code",
   "execution_count": 9,
   "metadata": {
    "scrolled": false
   },
   "outputs": [
    {
     "name": "stdout",
     "output_type": "stream",
     "text": [
      "processed index New York, New York\n",
      "processed index Los Angeles, California\n",
      "processed index Chicago, Illinois\n",
      "processed index Houston, Texas\n",
      "processed index Philadelphia, Pennsylvania\n",
      "processed index Phoenix, Arizona\n",
      "processed index San Antonio, Texas\n",
      "processed index San Diego, California\n",
      "processed index Dallas, Texas\n",
      "processed index San Jose, California\n",
      "processed index Austin, Texas\n",
      "processed index Indianapolis, Indiana\n",
      "processed index Jacksonville, Florida\n",
      "processed index San Francisco, California\n",
      "processed index Columbus, Ohio\n",
      "processed index Charlotte, North Carolina\n",
      "processed index Fort Worth, Texas\n",
      "processed index Detroit, Michigan\n",
      "processed index El Paso, Texas\n",
      "processed index Memphis, Tennessee\n",
      "processed index Seattle, Washington\n",
      "processed index Denver, Colorado\n",
      "processed index Washington, District of Columbia\n",
      "processed index Boston, Massachusetts\n",
      "processed index Nashville, Tennessee\n",
      "processed index Baltimore, Maryland\n",
      "processed index Oklahoma City, Oklahoma\n",
      "processed index Louisville, Kentucky\n",
      "processed index Portland, Oregon\n",
      "processed index Las Vegas, Nevada\n",
      "processed index Milwaukee, Wisconsin\n",
      "processed index Albuquerque, New Mexico\n",
      "processed index Tucson, Arizona\n",
      "processed index Fresno, California\n",
      "processed index Sacramento, California\n",
      "processed index Long Beach, California\n",
      "processed index Kansas City, Missouri\n",
      "processed index Mesa, Arizona\n",
      "processed index Virginia Beach, Virginia\n",
      "processed index Atlanta, Georgia\n",
      "processed index Colorado Springs, Colorado\n",
      "processed index Omaha, Nebraska\n",
      "processed index Raleigh, North Carolina\n",
      "processed index Miami, Florida\n",
      "processed index Oakland, California\n",
      "processed index Minneapolis, Minnesota\n",
      "processed index Tulsa, Oklahoma\n",
      "processed index Cleveland, Ohio\n",
      "processed index Wichita, Kansas\n",
      "processed index Arlington, Texas\n",
      "processed index New Orleans, Louisiana\n",
      "processed index Bakersfield, California\n",
      "processed index Tampa, Florida\n",
      "processed index Aurora, Colorado\n",
      "processed index Anaheim, California\n",
      "processed index Santa Ana, California\n",
      "processed index St. Louis, Missouri\n",
      "processed index Riverside, California\n",
      "processed index Corpus Christi, Texas\n",
      "processed index Lexington-Fayette, Kentucky\n",
      "processed index Pittsburgh, Pennsylvania\n",
      "processed index Anchorage, Alaska\n",
      "processed index Stockton, California\n",
      "processed index Cincinnati, Ohio\n",
      "processed index St. Paul, Minnesota\n",
      "processed index Toledo, Ohio\n",
      "processed index Greensboro, North Carolina\n",
      "processed index Newark, New Jersey\n",
      "processed index Plano, Texas\n",
      "processed index Henderson, Nevada\n",
      "processed index Lincoln, Nebraska\n",
      "processed index Buffalo, New York\n",
      "processed index Jersey City, New Jersey\n",
      "processed index Chula Vista, California\n",
      "processed index Fort Wayne, Indiana\n",
      "processed index Orlando, Florida\n",
      "processed index St. Petersburg, Florida\n",
      "processed index Chandler, Arizona\n",
      "processed index Laredo, Texas\n",
      "processed index Norfolk, Virginia\n",
      "processed index Durham, North Carolina\n",
      "processed index Madison, Wisconsin\n",
      "processed index Lubbock, Texas\n",
      "processed index Irvine, California\n",
      "processed index Winston-Salem, North Carolina\n",
      "processed index Glendale, Arizona\n",
      "processed index Garland, Texas\n",
      "processed index Hialeah, Florida\n",
      "processed index Reno, Nevada\n",
      "processed index Chesapeake, Virginia\n",
      "processed index Gilbert, Arizona\n",
      "processed index Baton Rouge, Louisiana\n",
      "processed index Irving, Texas\n",
      "processed index Scottsdale, Arizona\n",
      "processed index North Las Vegas, Nevada\n",
      "processed index Fremont, California\n",
      "processed index Boise City, Idaho\n",
      "processed index Richmond, Virginia\n"
     ]
    }
   ],
   "source": [
    "# make an API call for each pair of startingpoint-centroid coordinates\n",
    "# save each call to individual .gpx file\n",
    "\n",
    "for index, row in coordinates.iterrows():\n",
    "    req = urlStart + point + startY + ',' + startX + '&' + point + str(row['Y']) + ',' + str(row['X']) + urlEnd\n",
    "    try:\n",
    "        resp = urllib.request.urlopen(req)\n",
    "        gpxData = str(resp.read(), 'utf-8')\n",
    "        fileName = 'savannah_' + str(index)\n",
    "        saveFile = open('gpx_files/{0}.gpx'.format(fileName),'w')\n",
    "        print('processed index ' + str(index))\n",
    "        saveFile.write(gpxData)\n",
    "        saveFile.close()\n",
    "    except:\n",
    "        print('bad request on index ' + str(index))\n",
    "        pass"
   ]
  },
  {
   "cell_type": "code",
   "execution_count": 10,
   "metadata": {},
   "outputs": [],
   "source": [
    "# write csv file called merged.csv to working directory and give column names x,y,y\n",
    "with open(r'gpx_files/merged/merged.csv', 'a') as f:\n",
    "    writer = csv.writer(f, quoting=csv.QUOTE_NONE, escapechar=' ', lineterminator='\\n')\n",
    "    writer.writerow('yxtn')"
   ]
  },
  {
   "cell_type": "code",
   "execution_count": 11,
   "metadata": {
    "scrolled": false
   },
   "outputs": [
    {
     "name": "stdout",
     "output_type": "stream",
     "text": [
      "gpx_files/savannah_New York, New York.gpx New York, New York\n",
      "gpx_files/savannah_Virginia Beach, Virginia.gpx Virginia Beach, Virginia\n",
      "gpx_files/savannah_Chesapeake, Virginia.gpx Chesapeake, Virginia\n",
      "gpx_files/savannah_Lubbock, Texas.gpx Lubbock, Texas\n",
      "gpx_files/savannah_El Paso, Texas.gpx El Paso, Texas\n",
      "gpx_files/savannah_Austin, Texas.gpx Austin, Texas\n",
      "gpx_files/savannah_Gilbert, Arizona.gpx Gilbert, Arizona\n",
      "gpx_files/savannah_Stockton, California.gpx Stockton, California\n",
      "gpx_files/savannah_Las Vegas, Nevada.gpx Las Vegas, Nevada\n",
      "gpx_files/savannah_Richmond, Virginia.gpx Richmond, Virginia\n",
      "gpx_files/savannah_Durham, North Carolina.gpx Durham, North Carolina\n",
      "gpx_files/savannah_Chandler, Arizona.gpx Chandler, Arizona\n",
      "gpx_files/savannah_Wichita, Kansas.gpx Wichita, Kansas\n",
      "gpx_files/savannah_Riverside, California.gpx Riverside, California\n",
      "gpx_files/savannah_Dallas, Texas.gpx Dallas, Texas\n",
      "gpx_files/savannah_Oklahoma City, Oklahoma.gpx Oklahoma City, Oklahoma\n",
      "gpx_files/savannah_North Las Vegas, Nevada.gpx North Las Vegas, Nevada\n",
      "gpx_files/savannah_Baton Rouge, Louisiana.gpx Baton Rouge, Louisiana\n",
      "gpx_files/savannah_Fort Worth, Texas.gpx Fort Worth, Texas\n",
      "gpx_files/savannah_Glendale, Arizona.gpx Glendale, Arizona\n",
      "gpx_files/savannah_Lincoln, Nebraska.gpx Lincoln, Nebraska\n",
      "gpx_files/savannah_Bakersfield, California.gpx Bakersfield, California\n",
      "gpx_files/savannah_St. Petersburg, Florida.gpx St. Petersburg, Florida\n",
      "gpx_files/savannah_Henderson, Nevada.gpx Henderson, Nevada\n",
      "gpx_files/savannah_Plano, Texas.gpx Plano, Texas\n",
      "gpx_files/savannah_St. Paul, Minnesota.gpx St. Paul, Minnesota\n",
      "gpx_files/savannah_Irving, Texas.gpx Irving, Texas\n",
      "gpx_files/savannah_Laredo, Texas.gpx Laredo, Texas\n",
      "gpx_files/savannah_Houston, Texas.gpx Houston, Texas\n",
      "gpx_files/savannah_Fremont, California.gpx Fremont, California\n",
      "gpx_files/savannah_Portland, Oregon.gpx Portland, Oregon\n",
      "gpx_files/savannah_Milwaukee, Wisconsin.gpx Milwaukee, Wisconsin\n",
      "gpx_files/savannah_Detroit, Michigan.gpx Detroit, Michigan\n",
      "gpx_files/savannah_Greensboro, North Carolina.gpx Greensboro, North Carolina\n",
      "gpx_files/savannah_Mesa, Arizona.gpx Mesa, Arizona\n",
      "gpx_files/savannah_Miami, Florida.gpx Miami, Florida\n",
      "gpx_files/savannah_Boston, Massachusetts.gpx Boston, Massachusetts\n",
      "gpx_files/savannah_Omaha, Nebraska.gpx Omaha, Nebraska\n",
      "gpx_files/savannah_Albuquerque, New Mexico.gpx Albuquerque, New Mexico\n",
      "gpx_files/savannah_San Antonio, Texas.gpx San Antonio, Texas\n",
      "gpx_files/savannah_Washington, District of Columbia.gpx Washington, District of Columbia\n",
      "gpx_files/savannah_Boise City, Idaho.gpx Boise City, Idaho\n",
      "gpx_files/savannah_Raleigh, North Carolina.gpx Raleigh, North Carolina\n",
      "gpx_files/savannah_Fort Wayne, Indiana.gpx Fort Wayne, Indiana\n",
      "gpx_files/savannah_Minneapolis, Minnesota.gpx Minneapolis, Minnesota\n",
      "gpx_files/savannah_Columbus, Ohio.gpx Columbus, Ohio\n",
      "gpx_files/savannah_Norfolk, Virginia.gpx Norfolk, Virginia\n",
      "gpx_files/savannah_Scottsdale, Arizona.gpx Scottsdale, Arizona\n",
      "gpx_files/savannah_Toledo, Ohio.gpx Toledo, Ohio\n",
      "gpx_files/savannah_Jacksonville, Florida.gpx Jacksonville, Florida\n",
      "gpx_files/savannah_San Jose, California.gpx San Jose, California\n",
      "gpx_files/savannah_Denver, Colorado.gpx Denver, Colorado\n",
      "gpx_files/savannah_Lexington-Fayette, Kentucky.gpx Lexington-Fayette, Kentucky\n",
      "gpx_files/savannah_Tulsa, Oklahoma.gpx Tulsa, Oklahoma\n",
      "gpx_files/savannah_Tampa, Florida.gpx Tampa, Florida\n",
      "gpx_files/savannah_Winston-Salem, North Carolina.gpx Winston-Salem, North Carolina\n",
      "gpx_files/savannah_Charlotte, North Carolina.gpx Charlotte, North Carolina\n",
      "gpx_files/savannah_Irvine, California.gpx Irvine, California\n",
      "gpx_files/savannah_Corpus Christi, Texas.gpx Corpus Christi, Texas\n",
      "gpx_files/savannah_Sacramento, California.gpx Sacramento, California\n",
      "gpx_files/savannah_Atlanta, Georgia.gpx Atlanta, Georgia\n",
      "gpx_files/savannah_San Francisco, California.gpx San Francisco, California\n",
      "gpx_files/savannah_Chicago, Illinois.gpx Chicago, Illinois\n",
      "gpx_files/savannah_Jersey City, New Jersey.gpx Jersey City, New Jersey\n",
      "gpx_files/savannah_Aurora, Colorado.gpx Aurora, Colorado\n",
      "gpx_files/savannah_Anaheim, California.gpx Anaheim, California\n",
      "gpx_files/savannah_Oakland, California.gpx Oakland, California\n",
      "gpx_files/savannah_St. Louis, Missouri.gpx St. Louis, Missouri\n",
      "gpx_files/savannah_Chula Vista, California.gpx Chula Vista, California\n",
      "gpx_files/savannah_Memphis, Tennessee.gpx Memphis, Tennessee\n",
      "gpx_files/savannah_Orlando, Florida.gpx Orlando, Florida\n",
      "gpx_files/savannah_Nashville, Tennessee.gpx Nashville, Tennessee\n",
      "gpx_files/savannah_Anchorage, Alaska.gpx Anchorage, Alaska\n",
      "gpx_files/savannah_Phoenix, Arizona.gpx Phoenix, Arizona\n",
      "gpx_files/savannah_Pittsburgh, Pennsylvania.gpx Pittsburgh, Pennsylvania\n",
      "gpx_files/savannah_Indianapolis, Indiana.gpx Indianapolis, Indiana\n",
      "gpx_files/savannah_Baltimore, Maryland.gpx Baltimore, Maryland\n",
      "gpx_files/savannah_Tucson, Arizona.gpx Tucson, Arizona\n",
      "gpx_files/savannah_Newark, New Jersey.gpx Newark, New Jersey\n",
      "gpx_files/savannah_Cleveland, Ohio.gpx Cleveland, Ohio\n",
      "gpx_files/savannah_Philadelphia, Pennsylvania.gpx Philadelphia, Pennsylvania\n",
      "gpx_files/savannah_San Diego, California.gpx San Diego, California\n",
      "gpx_files/savannah_Madison, Wisconsin.gpx Madison, Wisconsin\n",
      "gpx_files/savannah_New Orleans, Louisiana.gpx New Orleans, Louisiana\n",
      "gpx_files/savannah_Arlington, Texas.gpx Arlington, Texas\n",
      "gpx_files/savannah_Long Beach, California.gpx Long Beach, California\n",
      "gpx_files/savannah_Garland, Texas.gpx Garland, Texas\n",
      "gpx_files/savannah_Cincinnati, Ohio.gpx Cincinnati, Ohio\n",
      "gpx_files/savannah_Santa Ana, California.gpx Santa Ana, California\n",
      "gpx_files/savannah_Kansas City, Missouri.gpx Kansas City, Missouri\n",
      "gpx_files/savannah_Hialeah, Florida.gpx Hialeah, Florida\n",
      "gpx_files/savannah_Buffalo, New York.gpx Buffalo, New York\n",
      "gpx_files/savannah_Seattle, Washington.gpx Seattle, Washington\n",
      "gpx_files/savannah_Fresno, California.gpx Fresno, California\n",
      "gpx_files/savannah_Louisville, Kentucky.gpx Louisville, Kentucky\n",
      "gpx_files/savannah_Colorado Springs, Colorado.gpx Colorado Springs, Colorado\n",
      "gpx_files/savannah_Reno, Nevada.gpx Reno, Nevada\n",
      "gpx_files/savannah_Los Angeles, California.gpx Los Angeles, California\n"
     ]
    }
   ],
   "source": [
    "#create a folder for your files manually\n",
    "for file in os.listdir('gpx_files'):\n",
    "    if file.endswith((\".gpx\",\".mp4\",\"wmv\")):\n",
    "        filePath = 'gpx_files/' + file\n",
    "        n = filePath[19:]\n",
    "        nm = n[:-4]\n",
    "        print(filePath,nm)  \n",
    "        gpx_file = open(filePath, 'r')\n",
    "        gpx = gpxpy.parse(gpx_file)\n",
    "        count = 0\n",
    "\n",
    "        #iterate through rows and append each gpx row to merged csv\n",
    "        for track in gpx.tracks:\n",
    "            for segment in track.segments:\n",
    "                for point in segment.points:\n",
    "                    fields=['{0},{1},{2},{3}'.format(point.latitude, point.longitude, point.time, nm)] \n",
    "                    #Here double whitespace is removed so QGIS accepts the time format\n",
    "                    re.sub(' +',' ',fields[0])\n",
    "                    #Graphhopper creates quite a lot of GPX points and for this purpose every second is enough.\n",
    "                    count += 1\n",
    "                    if count % 2 == 0: \n",
    "                        with open(r'gpx_files/merged/merged.csv', 'a') as f:\n",
    "                            writer = csv.writer(f, quoting=csv.QUOTE_NONE, escapechar=' ', lineterminator='\\n')\n",
    "                            writer.writerow(fields)"
   ]
  },
  {
   "cell_type": "code",
   "execution_count": 24,
   "metadata": {},
   "outputs": [],
   "source": [
    "df = pd.read_csv('gpx_files/merged/merged.csv', index_col=False)"
   ]
  },
  {
   "cell_type": "code",
   "execution_count": 25,
   "metadata": {},
   "outputs": [
    {
     "data": {
      "text/plain": [
       "(413770, 4)"
      ]
     },
     "execution_count": 25,
     "metadata": {},
     "output_type": "execute_result"
    }
   ],
   "source": [
    "df.shape"
   ]
  },
  {
   "cell_type": "code",
   "execution_count": 26,
   "metadata": {},
   "outputs": [
    {
     "data": {
      "text/plain": [
       "y    float64\n",
       "x    float64\n",
       "t     object\n",
       "n     object\n",
       "dtype: object"
      ]
     },
     "execution_count": 26,
     "metadata": {},
     "output_type": "execute_result"
    }
   ],
   "source": [
    "df.dtypes"
   ]
  },
  {
   "cell_type": "code",
   "execution_count": 27,
   "metadata": {},
   "outputs": [],
   "source": [
    "df = df[['n','y','x','t']]\n",
    "df['t'] = pd.to_datetime(df.t)"
   ]
  },
  {
   "cell_type": "code",
   "execution_count": 28,
   "metadata": {},
   "outputs": [],
   "source": [
    "df.columns = ['n', 'y', 'x', 'timestamp']"
   ]
  },
  {
   "cell_type": "markdown",
   "metadata": {},
   "source": [
    "### Get total times for each route in hours, minutes, and seconds, and ultimately convert to geojson for export"
   ]
  },
  {
   "cell_type": "code",
   "execution_count": 30,
   "metadata": {},
   "outputs": [],
   "source": [
    "df['diff'] = df.groupby('n')['timestamp'].diff()\n"
   ]
  },
  {
   "cell_type": "code",
   "execution_count": 33,
   "metadata": {},
   "outputs": [],
   "source": [
    "df['seconds'] = df['diff'].astype('timedelta64[s]')"
   ]
  },
  {
   "cell_type": "code",
   "execution_count": 35,
   "metadata": {},
   "outputs": [
    {
     "name": "stderr",
     "output_type": "stream",
     "text": [
      "/anaconda2/lib/python3.6/site-packages/ipykernel_launcher.py:1: FutureWarning: Passing integers to fillna is deprecated, will raise a TypeError in a future version.  To retain the old behavior, pass pd.Timedelta(seconds=n) instead.\n",
      "  \"\"\"Entry point for launching an IPython kernel.\n"
     ]
    }
   ],
   "source": [
    "df.fillna(0, inplace=True)"
   ]
  },
  {
   "cell_type": "code",
   "execution_count": 37,
   "metadata": {},
   "outputs": [],
   "source": [
    "df['seconds_away'] = df.groupby('n')['seconds'].cumsum()"
   ]
  },
  {
   "cell_type": "code",
   "execution_count": 39,
   "metadata": {},
   "outputs": [],
   "source": [
    "df['minutes_away'] = df['seconds_away'] / 60"
   ]
  },
  {
   "cell_type": "code",
   "execution_count": 40,
   "metadata": {},
   "outputs": [],
   "source": [
    "df['hours_away'] = df['minutes_away'] / 60"
   ]
  },
  {
   "cell_type": "code",
   "execution_count": 59,
   "metadata": {},
   "outputs": [],
   "source": [
    "df.rename(columns={'n':'city', 'timestamp':'date'}, inplace=True)"
   ]
  },
  {
   "cell_type": "code",
   "execution_count": 61,
   "metadata": {},
   "outputs": [
    {
     "data": {
      "text/plain": [
       "city                     object\n",
       "y                       float64\n",
       "x                       float64\n",
       "date             datetime64[ns]\n",
       "diff            timedelta64[ns]\n",
       "seconds                 float64\n",
       "seconds_away            float64\n",
       "minutes_away            float64\n",
       "hours_away              float64\n",
       "dtype: object"
      ]
     },
     "execution_count": 61,
     "metadata": {},
     "output_type": "execute_result"
    }
   ],
   "source": [
    "df.dtypes"
   ]
  },
  {
   "cell_type": "code",
   "execution_count": 63,
   "metadata": {},
   "outputs": [],
   "source": [
    "df['date'] = df['date'].dt.date\n"
   ]
  },
  {
   "cell_type": "code",
   "execution_count": 75,
   "metadata": {},
   "outputs": [],
   "source": [
    "df['time'] = pd.to_datetime(df['diff']).dt.strftime('%H:%M:%S')"
   ]
  },
  {
   "cell_type": "code",
   "execution_count": 76,
   "metadata": {},
   "outputs": [],
   "source": [
    "df['date2'] = df['date'].astype(str)"
   ]
  },
  {
   "cell_type": "code",
   "execution_count": 78,
   "metadata": {},
   "outputs": [],
   "source": [
    "df['timestamp'] = pd.to_datetime(df['date2'] + ' ' + df['time'])"
   ]
  },
  {
   "cell_type": "code",
   "execution_count": 80,
   "metadata": {},
   "outputs": [],
   "source": [
    "del df['date2']\n",
    "del df['diff2']\n",
    "del df['time']"
   ]
  },
  {
   "cell_type": "code",
   "execution_count": 86,
   "metadata": {},
   "outputs": [],
   "source": [
    "df['timestamp'] = df.timestamp.apply(lambda x : (x-datetime.datetime(1970,1,1)).total_seconds())\n"
   ]
  },
  {
   "cell_type": "code",
   "execution_count": 87,
   "metadata": {},
   "outputs": [
    {
     "data": {
      "text/plain": [
       "city                     object\n",
       "y                       float64\n",
       "x                       float64\n",
       "date                     object\n",
       "diff            timedelta64[ns]\n",
       "seconds                 float64\n",
       "seconds_away            float64\n",
       "minutes_away            float64\n",
       "hours_away              float64\n",
       "timestamp               float64\n",
       "dtype: object"
      ]
     },
     "execution_count": 87,
     "metadata": {},
     "output_type": "execute_result"
    }
   ],
   "source": [
    "df.dtypes"
   ]
  },
  {
   "cell_type": "code",
   "execution_count": 92,
   "metadata": {},
   "outputs": [
    {
     "data": {
      "text/html": [
       "<div>\n",
       "<style scoped>\n",
       "    .dataframe tbody tr th:only-of-type {\n",
       "        vertical-align: middle;\n",
       "    }\n",
       "\n",
       "    .dataframe tbody tr th {\n",
       "        vertical-align: top;\n",
       "    }\n",
       "\n",
       "    .dataframe thead th {\n",
       "        text-align: right;\n",
       "    }\n",
       "</style>\n",
       "<table border=\"1\" class=\"dataframe\">\n",
       "  <thead>\n",
       "    <tr style=\"text-align: right;\">\n",
       "      <th></th>\n",
       "      <th>city</th>\n",
       "      <th>y</th>\n",
       "      <th>x</th>\n",
       "      <th>date</th>\n",
       "      <th>diff</th>\n",
       "      <th>seconds</th>\n",
       "      <th>seconds_away</th>\n",
       "      <th>minutes_away</th>\n",
       "      <th>hours_away</th>\n",
       "      <th>timestamp</th>\n",
       "    </tr>\n",
       "  </thead>\n",
       "  <tbody>\n",
       "    <tr>\n",
       "      <th>0</th>\n",
       "      <td>New  York</td>\n",
       "      <td>32.111124</td>\n",
       "      <td>-81.126236</td>\n",
       "      <td>2019-03-04</td>\n",
       "      <td>00:00:00</td>\n",
       "      <td>0.0</td>\n",
       "      <td>0.0</td>\n",
       "      <td>0.000000</td>\n",
       "      <td>0.000000</td>\n",
       "      <td>1.551658e+09</td>\n",
       "    </tr>\n",
       "    <tr>\n",
       "      <th>1</th>\n",
       "      <td>New  York</td>\n",
       "      <td>32.110967</td>\n",
       "      <td>-81.126193</td>\n",
       "      <td>2019-03-04</td>\n",
       "      <td>00:00:11</td>\n",
       "      <td>11.0</td>\n",
       "      <td>11.0</td>\n",
       "      <td>0.183333</td>\n",
       "      <td>0.003056</td>\n",
       "      <td>1.551658e+09</td>\n",
       "    </tr>\n",
       "    <tr>\n",
       "      <th>2</th>\n",
       "      <td>New  York</td>\n",
       "      <td>32.110359</td>\n",
       "      <td>-81.126906</td>\n",
       "      <td>2019-03-04</td>\n",
       "      <td>00:00:57</td>\n",
       "      <td>57.0</td>\n",
       "      <td>68.0</td>\n",
       "      <td>1.133333</td>\n",
       "      <td>0.018889</td>\n",
       "      <td>1.551658e+09</td>\n",
       "    </tr>\n",
       "    <tr>\n",
       "      <th>3</th>\n",
       "      <td>New  York</td>\n",
       "      <td>32.109039</td>\n",
       "      <td>-81.128615</td>\n",
       "      <td>2019-03-04</td>\n",
       "      <td>00:02:11</td>\n",
       "      <td>131.0</td>\n",
       "      <td>199.0</td>\n",
       "      <td>3.316667</td>\n",
       "      <td>0.055278</td>\n",
       "      <td>1.551658e+09</td>\n",
       "    </tr>\n",
       "    <tr>\n",
       "      <th>4</th>\n",
       "      <td>New  York</td>\n",
       "      <td>32.100306</td>\n",
       "      <td>-81.140469</td>\n",
       "      <td>2019-03-04</td>\n",
       "      <td>00:14:48</td>\n",
       "      <td>888.0</td>\n",
       "      <td>1087.0</td>\n",
       "      <td>18.116667</td>\n",
       "      <td>0.301944</td>\n",
       "      <td>1.551658e+09</td>\n",
       "    </tr>\n",
       "  </tbody>\n",
       "</table>\n",
       "</div>"
      ],
      "text/plain": [
       "         city          y          x        date     diff  seconds  \\\n",
       "0  New  York   32.111124 -81.126236  2019-03-04 00:00:00      0.0   \n",
       "1  New  York   32.110967 -81.126193  2019-03-04 00:00:11     11.0   \n",
       "2  New  York   32.110359 -81.126906  2019-03-04 00:00:57     57.0   \n",
       "3  New  York   32.109039 -81.128615  2019-03-04 00:02:11    131.0   \n",
       "4  New  York   32.100306 -81.140469  2019-03-04 00:14:48    888.0   \n",
       "\n",
       "   seconds_away  minutes_away  hours_away     timestamp  \n",
       "0           0.0      0.000000    0.000000  1.551658e+09  \n",
       "1          11.0      0.183333    0.003056  1.551658e+09  \n",
       "2          68.0      1.133333    0.018889  1.551658e+09  \n",
       "3         199.0      3.316667    0.055278  1.551658e+09  \n",
       "4        1087.0     18.116667    0.301944  1.551658e+09  "
      ]
     },
     "execution_count": 92,
     "metadata": {},
     "output_type": "execute_result"
    }
   ],
   "source": [
    "df.head()"
   ]
  },
  {
   "cell_type": "code",
   "execution_count": 94,
   "metadata": {},
   "outputs": [],
   "source": [
    "# now convert to geodataframe and write to geojson\n",
    "\n",
    "# Zip the coordinates into a point object and convert to a GeoDataFrame\n",
    "geometry = [Point(xy) for xy in zip(df.x, df.y)]\n",
    "geo = GeoDataFrame(df, geometry=geometry)\n",
    "\n",
    "# Aggregate these points with the GroupBy\n",
    "geo = geo.groupby(['city'])['geometry'].apply(lambda x: LineString(x.tolist()))\n",
    "geo = GeoDataFrame(geo, geometry='geometry')"
   ]
  },
  {
   "cell_type": "code",
   "execution_count": 95,
   "metadata": {},
   "outputs": [],
   "source": [
    "geo.reset_index(inplace=True)"
   ]
  },
  {
   "cell_type": "code",
   "execution_count": 96,
   "metadata": {},
   "outputs": [
    {
     "data": {
      "text/html": [
       "<div>\n",
       "<style scoped>\n",
       "    .dataframe tbody tr th:only-of-type {\n",
       "        vertical-align: middle;\n",
       "    }\n",
       "\n",
       "    .dataframe tbody tr th {\n",
       "        vertical-align: top;\n",
       "    }\n",
       "\n",
       "    .dataframe thead th {\n",
       "        text-align: right;\n",
       "    }\n",
       "</style>\n",
       "<table border=\"1\" class=\"dataframe\">\n",
       "  <thead>\n",
       "    <tr style=\"text-align: right;\">\n",
       "      <th></th>\n",
       "      <th>city</th>\n",
       "      <th>geometry</th>\n",
       "    </tr>\n",
       "  </thead>\n",
       "  <tbody>\n",
       "    <tr>\n",
       "      <th>0</th>\n",
       "      <td>Albuquerque</td>\n",
       "      <td>LINESTRING (-81.12623599999999 32.111124, -81....</td>\n",
       "    </tr>\n",
       "    <tr>\n",
       "      <th>1</th>\n",
       "      <td>Anaheim</td>\n",
       "      <td>LINESTRING (-81.12623599999999 32.111124, -81....</td>\n",
       "    </tr>\n",
       "    <tr>\n",
       "      <th>2</th>\n",
       "      <td>Anchorage</td>\n",
       "      <td>LINESTRING (-81.12623599999999 32.111124, -81....</td>\n",
       "    </tr>\n",
       "    <tr>\n",
       "      <th>3</th>\n",
       "      <td>Arlington</td>\n",
       "      <td>LINESTRING (-81.12623599999999 32.111124, -81....</td>\n",
       "    </tr>\n",
       "    <tr>\n",
       "      <th>4</th>\n",
       "      <td>Atlanta</td>\n",
       "      <td>LINESTRING (-81.12623599999999 32.111124, -81....</td>\n",
       "    </tr>\n",
       "  </tbody>\n",
       "</table>\n",
       "</div>"
      ],
      "text/plain": [
       "           city                                           geometry\n",
       "0  Albuquerque   LINESTRING (-81.12623599999999 32.111124, -81....\n",
       "1      Anaheim   LINESTRING (-81.12623599999999 32.111124, -81....\n",
       "2    Anchorage   LINESTRING (-81.12623599999999 32.111124, -81....\n",
       "3    Arlington   LINESTRING (-81.12623599999999 32.111124, -81....\n",
       "4      Atlanta   LINESTRING (-81.12623599999999 32.111124, -81...."
      ]
     },
     "execution_count": 96,
     "metadata": {},
     "output_type": "execute_result"
    }
   ],
   "source": [
    "geo.head()"
   ]
  },
  {
   "cell_type": "code",
   "execution_count": 98,
   "metadata": {},
   "outputs": [],
   "source": [
    "df['minutes'] = df['seconds'] / 60\n",
    "df['hours'] = df['minutes'] / 60"
   ]
  },
  {
   "cell_type": "code",
   "execution_count": 100,
   "metadata": {},
   "outputs": [],
   "source": [
    "# original df groupby fips and give cumsum columns for seconds minutes and hours\n",
    "grouped_df = df.groupby('city').agg({'seconds': 'sum',\n",
    "                             'minutes': 'sum',\n",
    "                             'hours'  : 'sum'})"
   ]
  },
  {
   "cell_type": "code",
   "execution_count": 102,
   "metadata": {},
   "outputs": [
    {
     "data": {
      "text/html": [
       "<div>\n",
       "<style scoped>\n",
       "    .dataframe tbody tr th:only-of-type {\n",
       "        vertical-align: middle;\n",
       "    }\n",
       "\n",
       "    .dataframe tbody tr th {\n",
       "        vertical-align: top;\n",
       "    }\n",
       "\n",
       "    .dataframe thead th {\n",
       "        text-align: right;\n",
       "    }\n",
       "</style>\n",
       "<table border=\"1\" class=\"dataframe\">\n",
       "  <thead>\n",
       "    <tr style=\"text-align: right;\">\n",
       "      <th></th>\n",
       "      <th>seconds</th>\n",
       "      <th>minutes</th>\n",
       "      <th>hours</th>\n",
       "    </tr>\n",
       "    <tr>\n",
       "      <th>city</th>\n",
       "      <th></th>\n",
       "      <th></th>\n",
       "      <th></th>\n",
       "    </tr>\n",
       "  </thead>\n",
       "  <tbody>\n",
       "    <tr>\n",
       "      <th>Albuquerque</th>\n",
       "      <td>120592.0</td>\n",
       "      <td>2009.866667</td>\n",
       "      <td>33.497778</td>\n",
       "    </tr>\n",
       "    <tr>\n",
       "      <th>Anaheim</th>\n",
       "      <td>176709.0</td>\n",
       "      <td>2945.150000</td>\n",
       "      <td>49.085833</td>\n",
       "    </tr>\n",
       "    <tr>\n",
       "      <th>Anchorage</th>\n",
       "      <td>330847.0</td>\n",
       "      <td>5514.116667</td>\n",
       "      <td>91.901944</td>\n",
       "    </tr>\n",
       "    <tr>\n",
       "      <th>Arlington</th>\n",
       "      <td>77551.0</td>\n",
       "      <td>1292.516667</td>\n",
       "      <td>21.541944</td>\n",
       "    </tr>\n",
       "    <tr>\n",
       "      <th>Atlanta</th>\n",
       "      <td>20142.0</td>\n",
       "      <td>335.700000</td>\n",
       "      <td>5.595000</td>\n",
       "    </tr>\n",
       "  </tbody>\n",
       "</table>\n",
       "</div>"
      ],
      "text/plain": [
       "               seconds      minutes      hours\n",
       "city                                          \n",
       "Albuquerque   120592.0  2009.866667  33.497778\n",
       "Anaheim       176709.0  2945.150000  49.085833\n",
       "Anchorage     330847.0  5514.116667  91.901944\n",
       "Arlington      77551.0  1292.516667  21.541944\n",
       "Atlanta        20142.0   335.700000   5.595000"
      ]
     },
     "execution_count": 102,
     "metadata": {},
     "output_type": "execute_result"
    }
   ],
   "source": [
    "grouped_df.head()"
   ]
  },
  {
   "cell_type": "code",
   "execution_count": 105,
   "metadata": {},
   "outputs": [],
   "source": [
    "# left merge geo with grouped_df on fips per http://geopandas.org/mergingdata.html#attribute-joins\n",
    "geo_df = geo.merge(grouped_df, on='city')"
   ]
  },
  {
   "cell_type": "code",
   "execution_count": 106,
   "metadata": {},
   "outputs": [
    {
     "data": {
      "text/html": [
       "<div>\n",
       "<style scoped>\n",
       "    .dataframe tbody tr th:only-of-type {\n",
       "        vertical-align: middle;\n",
       "    }\n",
       "\n",
       "    .dataframe tbody tr th {\n",
       "        vertical-align: top;\n",
       "    }\n",
       "\n",
       "    .dataframe thead th {\n",
       "        text-align: right;\n",
       "    }\n",
       "</style>\n",
       "<table border=\"1\" class=\"dataframe\">\n",
       "  <thead>\n",
       "    <tr style=\"text-align: right;\">\n",
       "      <th></th>\n",
       "      <th>city</th>\n",
       "      <th>geometry</th>\n",
       "      <th>seconds</th>\n",
       "      <th>minutes</th>\n",
       "      <th>hours</th>\n",
       "    </tr>\n",
       "  </thead>\n",
       "  <tbody>\n",
       "    <tr>\n",
       "      <th>0</th>\n",
       "      <td>Albuquerque</td>\n",
       "      <td>LINESTRING (-81.12623599999999 32.111124, -81....</td>\n",
       "      <td>120592.0</td>\n",
       "      <td>2009.866667</td>\n",
       "      <td>33.497778</td>\n",
       "    </tr>\n",
       "    <tr>\n",
       "      <th>1</th>\n",
       "      <td>Anaheim</td>\n",
       "      <td>LINESTRING (-81.12623599999999 32.111124, -81....</td>\n",
       "      <td>176709.0</td>\n",
       "      <td>2945.150000</td>\n",
       "      <td>49.085833</td>\n",
       "    </tr>\n",
       "    <tr>\n",
       "      <th>2</th>\n",
       "      <td>Anchorage</td>\n",
       "      <td>LINESTRING (-81.12623599999999 32.111124, -81....</td>\n",
       "      <td>330847.0</td>\n",
       "      <td>5514.116667</td>\n",
       "      <td>91.901944</td>\n",
       "    </tr>\n",
       "    <tr>\n",
       "      <th>3</th>\n",
       "      <td>Arlington</td>\n",
       "      <td>LINESTRING (-81.12623599999999 32.111124, -81....</td>\n",
       "      <td>77551.0</td>\n",
       "      <td>1292.516667</td>\n",
       "      <td>21.541944</td>\n",
       "    </tr>\n",
       "    <tr>\n",
       "      <th>4</th>\n",
       "      <td>Atlanta</td>\n",
       "      <td>LINESTRING (-81.12623599999999 32.111124, -81....</td>\n",
       "      <td>20142.0</td>\n",
       "      <td>335.700000</td>\n",
       "      <td>5.595000</td>\n",
       "    </tr>\n",
       "  </tbody>\n",
       "</table>\n",
       "</div>"
      ],
      "text/plain": [
       "           city                                           geometry   seconds  \\\n",
       "0  Albuquerque   LINESTRING (-81.12623599999999 32.111124, -81....  120592.0   \n",
       "1      Anaheim   LINESTRING (-81.12623599999999 32.111124, -81....  176709.0   \n",
       "2    Anchorage   LINESTRING (-81.12623599999999 32.111124, -81....  330847.0   \n",
       "3    Arlington   LINESTRING (-81.12623599999999 32.111124, -81....   77551.0   \n",
       "4      Atlanta   LINESTRING (-81.12623599999999 32.111124, -81....   20142.0   \n",
       "\n",
       "       minutes      hours  \n",
       "0  2009.866667  33.497778  \n",
       "1  2945.150000  49.085833  \n",
       "2  5514.116667  91.901944  \n",
       "3  1292.516667  21.541944  \n",
       "4   335.700000   5.595000  "
      ]
     },
     "execution_count": 106,
     "metadata": {},
     "output_type": "execute_result"
    }
   ],
   "source": [
    "geo_df.head()"
   ]
  },
  {
   "cell_type": "code",
   "execution_count": 107,
   "metadata": {},
   "outputs": [
    {
     "name": "stderr",
     "output_type": "stream",
     "text": [
      "/anaconda2/lib/python3.6/site-packages/geopandas/io/file.py:108: FionaDeprecationWarning: Use fiona.Env() instead.\n",
      "  with fiona.drivers():\n"
     ]
    }
   ],
   "source": [
    "# write geo to geojson with non-geometry columns as properties\n",
    "geo_df.to_file('savannah-metros-routes.geojson', driver=\"GeoJSON\")"
   ]
  },
  {
   "cell_type": "code",
   "execution_count": 108,
   "metadata": {},
   "outputs": [
    {
     "data": {
      "text/plain": [
       "(98, 5)"
      ]
     },
     "execution_count": 108,
     "metadata": {},
     "output_type": "execute_result"
    }
   ],
   "source": [
    "geo_df.shape"
   ]
  },
  {
   "cell_type": "code",
   "execution_count": 111,
   "metadata": {},
   "outputs": [],
   "source": [
    "geo_df1 = geo_df[0:32]"
   ]
  },
  {
   "cell_type": "code",
   "execution_count": 113,
   "metadata": {},
   "outputs": [
    {
     "data": {
      "text/plain": [
       "(32, 5)"
      ]
     },
     "execution_count": 113,
     "metadata": {},
     "output_type": "execute_result"
    }
   ],
   "source": [
    "geo_df1.shape"
   ]
  },
  {
   "cell_type": "code",
   "execution_count": null,
   "metadata": {},
   "outputs": [],
   "source": []
  }
 ],
 "metadata": {
  "kernelspec": {
   "display_name": "Python 3",
   "language": "python",
   "name": "python3"
  },
  "language_info": {
   "codemirror_mode": {
    "name": "ipython",
    "version": 3
   },
   "file_extension": ".py",
   "mimetype": "text/x-python",
   "name": "python",
   "nbconvert_exporter": "python",
   "pygments_lexer": "ipython3",
   "version": "3.6.0"
  }
 },
 "nbformat": 4,
 "nbformat_minor": 2
}
