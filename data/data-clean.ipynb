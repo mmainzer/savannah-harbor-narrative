{
 "cells": [
  {
   "cell_type": "code",
   "execution_count": 1,
   "metadata": {},
   "outputs": [],
   "source": [
    "import pandas as pd\n",
    "import numpy as np"
   ]
  },
  {
   "cell_type": "markdown",
   "metadata": {},
   "source": [
    "## Get summaries of shipments from foreign port of lading\n",
    "#### This will get total shipments, for each year, by the port in which cargo was originally loaded (laded)"
   ]
  },
  {
   "cell_type": "code",
   "execution_count": 2,
   "metadata": {},
   "outputs": [],
   "source": [
    "df = pd.read_csv('unlading-data/unlading-2018.csv', usecols=[0, 6])"
   ]
  },
  {
   "cell_type": "code",
   "execution_count": 3,
   "metadata": {
    "collapsed": true
   },
   "outputs": [],
   "source": [
    "df2 = pd.DataFrame(df.groupby('foreign_port_of_lading').size())"
   ]
  },
  {
   "cell_type": "code",
   "execution_count": 4,
   "metadata": {},
   "outputs": [],
   "source": [
    "df2.to_csv('unlading-data/unlading-2018-summary.csv')"
   ]
  },
  {
   "cell_type": "code",
   "execution_count": 5,
   "metadata": {},
   "outputs": [
    {
     "data": {
      "text/html": [
       "<div>\n",
       "<table border=\"1\" class=\"dataframe\">\n",
       "  <thead>\n",
       "    <tr style=\"text-align: right;\">\n",
       "      <th></th>\n",
       "      <th>identifier</th>\n",
       "      <th>foreign_port_of_lading</th>\n",
       "    </tr>\n",
       "  </thead>\n",
       "  <tbody>\n",
       "    <tr>\n",
       "      <th>0</th>\n",
       "      <td>2017101965687</td>\n",
       "      <td>Cristobal,Panama</td>\n",
       "    </tr>\n",
       "    <tr>\n",
       "      <th>1</th>\n",
       "      <td>201710199496</td>\n",
       "      <td>Hong Kong,Hong Kong</td>\n",
       "    </tr>\n",
       "    <tr>\n",
       "      <th>2</th>\n",
       "      <td>201710199874</td>\n",
       "      <td>Yantian,China (Mainland)</td>\n",
       "    </tr>\n",
       "    <tr>\n",
       "      <th>3</th>\n",
       "      <td>201710199898</td>\n",
       "      <td>Yantian,China (Mainland)</td>\n",
       "    </tr>\n",
       "    <tr>\n",
       "      <th>4</th>\n",
       "      <td>2017102033211</td>\n",
       "      <td>Genova,Italy</td>\n",
       "    </tr>\n",
       "  </tbody>\n",
       "</table>\n",
       "</div>"
      ],
      "text/plain": [
       "      identifier    foreign_port_of_lading\n",
       "0  2017101965687          Cristobal,Panama\n",
       "1   201710199496       Hong Kong,Hong Kong\n",
       "2   201710199874  Yantian,China (Mainland)\n",
       "3   201710199898  Yantian,China (Mainland)\n",
       "4  2017102033211              Genova,Italy"
      ]
     },
     "execution_count": 5,
     "metadata": {},
     "output_type": "execute_result"
    }
   ],
   "source": [
    "df = pd.read_csv('unlading-data/unlading-2017.csv', usecols=[0, 6])\n",
    "df.head()"
   ]
  },
  {
   "cell_type": "code",
   "execution_count": 6,
   "metadata": {
    "collapsed": true
   },
   "outputs": [],
   "source": [
    "df2 = pd.DataFrame(df.groupby('foreign_port_of_lading').size())"
   ]
  },
  {
   "cell_type": "code",
   "execution_count": 7,
   "metadata": {
    "collapsed": true
   },
   "outputs": [],
   "source": [
    "df2.to_csv('unlading-data/unlading-2017-summary.csv')"
   ]
  },
  {
   "cell_type": "code",
   "execution_count": 8,
   "metadata": {
    "collapsed": true
   },
   "outputs": [],
   "source": [
    "df = pd.read_csv('unlading-data/unlading-2016.csv', usecols=[0, 6])\n",
    "df2 = pd.DataFrame(df.groupby('foreign_port_of_lading').size())\n",
    "df2.to_csv('unlading-data/unlading-2016-summary.csv')"
   ]
  },
  {
   "cell_type": "code",
   "execution_count": 9,
   "metadata": {
    "collapsed": true
   },
   "outputs": [],
   "source": [
    "df = pd.read_csv('unlading-data/unlading-2015.csv', usecols=[0, 6])\n",
    "df2 = pd.DataFrame(df.groupby('foreign_port_of_lading').size())\n",
    "df2.to_csv('unlading-data/unlading-2015-summary.csv')"
   ]
  },
  {
   "cell_type": "code",
   "execution_count": 10,
   "metadata": {},
   "outputs": [],
   "source": [
    "df = pd.read_csv('unlading-data/unlading-2014.csv', usecols=[0,7])"
   ]
  },
  {
   "cell_type": "code",
   "execution_count": 11,
   "metadata": {
    "collapsed": true
   },
   "outputs": [],
   "source": [
    "df2 = pd.DataFrame(df.groupby('foreign_port_of_lading').size())\n",
    "df2.to_csv('unlading-data/unlading-2014-summary.csv')"
   ]
  },
  {
   "cell_type": "code",
   "execution_count": 46,
   "metadata": {
    "collapsed": true
   },
   "outputs": [],
   "source": [
    "# now get shipments of containers from foreign ports of lading\n",
    "df = pd.read_csv('unlading-data/unlading-2014.csv', usecols=[0, 7, 23])\n",
    "df2 = df.groupby('foreign_port_of_lading')['container_number'].nunique().reset_index()\n",
    "df2.to_csv('unlading-data/unlading-2014-summary.csv')"
   ]
  },
  {
   "cell_type": "code",
   "execution_count": 48,
   "metadata": {},
   "outputs": [],
   "source": [
    "df = pd.read_csv('unlading-data/unlading-2015.csv', usecols=[0, 6, 23])\n",
    "df2 = df.groupby('foreign_port_of_lading')['container_number'].nunique().reset_index()\n",
    "df2.to_csv('unlading-data/unlading-2015-summary.csv')"
   ]
  },
  {
   "cell_type": "code",
   "execution_count": 50,
   "metadata": {
    "collapsed": true
   },
   "outputs": [],
   "source": [
    "df = pd.read_csv('unlading-data/unlading-2016.csv', usecols=[0, 6, 23])\n",
    "df2 = df.groupby('foreign_port_of_lading')['container_number'].nunique().reset_index()\n",
    "df2.to_csv('unlading-data/unlading-2016-summary.csv')"
   ]
  },
  {
   "cell_type": "code",
   "execution_count": 51,
   "metadata": {
    "collapsed": true
   },
   "outputs": [],
   "source": [
    "df = pd.read_csv('unlading-data/unlading-2017.csv', usecols=[0, 6, 23])\n",
    "df2 = df.groupby('foreign_port_of_lading')['container_number'].nunique().reset_index()\n",
    "df2.to_csv('unlading-data/unlading-2017-summary.csv')"
   ]
  },
  {
   "cell_type": "code",
   "execution_count": 52,
   "metadata": {
    "collapsed": true
   },
   "outputs": [],
   "source": [
    "df = pd.read_csv('unlading-data/unlading-2018.csv', usecols=[0, 6, 23])\n",
    "df2 = df.groupby('foreign_port_of_lading')['container_number'].nunique().reset_index()\n",
    "df2.to_csv('unlading-data/unlading-2018-summary.csv')"
   ]
  },
  {
   "cell_type": "code",
   "execution_count": 53,
   "metadata": {
    "collapsed": true
   },
   "outputs": [],
   "source": [
    "shipments = pd.read_excel('unlading-data/savannah-unlading_2014-2018.xlsx', sheetname='port-of-lading-shipments')\n",
    "containers= pd.read_excel('unlading-data/savannah-unlading_2014-2018.xlsx', sheetname='port-of-lading-containers')"
   ]
  },
  {
   "cell_type": "code",
   "execution_count": 54,
   "metadata": {
    "collapsed": true
   },
   "outputs": [],
   "source": [
    "df = pd.merge(left=shipments, right=containers, how='left', on=['Year', 'Port of Lading', 'Country of Lading'])"
   ]
  },
  {
   "cell_type": "code",
   "execution_count": 59,
   "metadata": {
    "collapsed": true
   },
   "outputs": [],
   "source": [
    "df.drop_duplicates(inplace=True)"
   ]
  },
  {
   "cell_type": "code",
   "execution_count": 60,
   "metadata": {},
   "outputs": [
    {
     "data": {
      "text/plain": [
       "(1899, 4)"
      ]
     },
     "execution_count": 60,
     "metadata": {},
     "output_type": "execute_result"
    }
   ],
   "source": [
    "shipments.shape"
   ]
  },
  {
   "cell_type": "code",
   "execution_count": 62,
   "metadata": {},
   "outputs": [],
   "source": [
    "df.to_excel('unlading-data/data.xlsx')"
   ]
  },
  {
   "cell_type": "markdown",
   "metadata": {
    "collapsed": true
   },
   "source": [
    "## Get summaries of shipments by foreign port of destination\n",
    "#### This will get total shipments, for each year, by the foreign port to which cargo will ultimately be delivered, if end-destination is not Savannah"
   ]
  },
  {
   "cell_type": "code",
   "execution_count": 13,
   "metadata": {},
   "outputs": [],
   "source": [
    "df = pd.read_csv('unlading-data/unlading-2014.csv', usecols=[0, 10])\n",
    "df2 = pd.DataFrame(df.groupby('foreign_port_of_destination').size())\n",
    "df2.to_csv('unlading-data/destination-2014.csv')"
   ]
  },
  {
   "cell_type": "code",
   "execution_count": 25,
   "metadata": {
    "collapsed": true
   },
   "outputs": [],
   "source": [
    "df = pd.read_csv('unlading-data/unlading-2015.csv', usecols=[0, 10])\n",
    "df2 = pd.DataFrame(df.groupby('foreign_port_of_destination').size())\n",
    "df2.to_csv('unlading-data/destination-2015.csv')"
   ]
  },
  {
   "cell_type": "code",
   "execution_count": 26,
   "metadata": {},
   "outputs": [],
   "source": [
    "df = pd.read_csv('unlading-data/unlading-2016.csv', usecols=[0, 10])\n",
    "df2 = pd.DataFrame(df.groupby('foreign_port_of_destination').size())\n",
    "df2.to_csv('unlading-data/destination-2016.csv')"
   ]
  },
  {
   "cell_type": "code",
   "execution_count": 27,
   "metadata": {},
   "outputs": [
    {
     "name": "stderr",
     "output_type": "stream",
     "text": [
      "C:\\Users\\MTMAINZE\\AppData\\Local\\Continuum\\Anaconda2\\lib\\site-packages\\IPython\\core\\interactiveshell.py:2717: DtypeWarning: Columns (10) have mixed types. Specify dtype option on import or set low_memory=False.\n",
      "  interactivity=interactivity, compiler=compiler, result=result)\n"
     ]
    }
   ],
   "source": [
    "df = pd.read_csv('unlading-data/unlading-2017.csv', usecols=[0, 10])\n",
    "df2 = pd.DataFrame(df.groupby('foreign_port_of_destination').size())\n",
    "df2.to_csv('unlading-data/destination-2017.csv')"
   ]
  },
  {
   "cell_type": "code",
   "execution_count": 28,
   "metadata": {
    "collapsed": true
   },
   "outputs": [],
   "source": [
    "df = pd.read_csv('unlading-data/unlading-2018.csv', usecols=[0, 10])\n",
    "df2 = pd.DataFrame(df.groupby('foreign_port_of_destination').size())\n",
    "df2.to_csv('unlading-data/destination-2018.csv')"
   ]
  },
  {
   "cell_type": "markdown",
   "metadata": {},
   "source": [
    "## Get summaries of shipments by domestic port of destination\n",
    "#### This will get total shipments, for each year, by the domestic port to which cargo will ultimately be delivered, if end-destination is not Savannah"
   ]
  },
  {
   "cell_type": "code",
   "execution_count": 32,
   "metadata": {},
   "outputs": [],
   "source": [
    "df = pd.read_csv('unlading-data/unlading-2014.csv', usecols=[0, 9])\n",
    "df2 = pd.DataFrame(df.groupby('port_of_destination').size())\n",
    "df2.to_csv('unlading-data/destination-2014.csv')"
   ]
  },
  {
   "cell_type": "code",
   "execution_count": 33,
   "metadata": {},
   "outputs": [],
   "source": [
    "df = pd.read_csv('unlading-data/unlading-2015.csv', usecols=[0, 9])\n",
    "df2 = pd.DataFrame(df.groupby('port_of_destination').size())\n",
    "df2.to_csv('unlading-data/destination-2015.csv')"
   ]
  },
  {
   "cell_type": "code",
   "execution_count": 34,
   "metadata": {
    "collapsed": true
   },
   "outputs": [],
   "source": [
    "df = pd.read_csv('unlading-data/unlading-2016.csv', usecols=[0, 9])\n",
    "df2 = pd.DataFrame(df.groupby('port_of_destination').size())\n",
    "df2.to_csv('unlading-data/destination-2016.csv')"
   ]
  },
  {
   "cell_type": "code",
   "execution_count": 35,
   "metadata": {
    "collapsed": true
   },
   "outputs": [],
   "source": [
    "df = pd.read_csv('unlading-data/unlading-2017.csv', usecols=[0, 9])\n",
    "df2 = pd.DataFrame(df.groupby('port_of_destination').size())\n",
    "df2.to_csv('unlading-data/destination-2017.csv')"
   ]
  },
  {
   "cell_type": "code",
   "execution_count": 36,
   "metadata": {
    "collapsed": true
   },
   "outputs": [],
   "source": [
    "df = pd.read_csv('unlading-data/unlading-2018.csv', usecols=[0, 9])\n",
    "df2 = pd.DataFrame(df.groupby('port_of_destination').size())\n",
    "df2.to_csv('unlading-data/destination-2018.csv')"
   ]
  },
  {
   "cell_type": "markdown",
   "metadata": {},
   "source": [
    "## Get summaries of shipments by vessel call\n",
    "#### This will get a sum of containers, weight, and harmonized value by a vessel on a particular day"
   ]
  },
  {
   "cell_type": "code",
   "execution_count": 86,
   "metadata": {
    "collapsed": true
   },
   "outputs": [],
   "source": [
    "df = pd.read_csv('unlading-data/unlading-2014.csv', usecols=[0,4,5,6,7,23,28,29,30])\n",
    "df['Weight'] = np.where(df['harmonized_weight_unit'] == 'Kilograms', df['harmonized_weight'] * 2.20462, df['harmonized_weight'])\n",
    "del df['harmonized_weight']\n",
    "del df['harmonized_weight_unit']\n",
    "\n",
    "df2 = df.groupby(['vessel_name','estimated_arrival_date']).agg({'harmonized_value' : 'sum',\n",
    "                                                          'Weight' : 'sum',\n",
    "                                                          'identifier' : lambda x: x.nunique(),\n",
    "                                                          'container_number' : lambda x: x.nunique()})\n",
    "\n",
    "df2.reset_index(inplace=True)\n",
    "\n",
    "df2.to_csv('unlading-data/vessels-2014.csv')"
   ]
  },
  {
   "cell_type": "code",
   "execution_count": 88,
   "metadata": {},
   "outputs": [],
   "source": [
    "df = pd.read_csv('unlading-data/unlading-2015.csv', usecols=[0,3,4,5,6,7,23,28,29,30])\n",
    "df['Weight'] = np.where(df['harmonized_weight_unit'] == 'Kilograms', df['harmonized_weight'] * 2.20462, df['harmonized_weight'])\n",
    "del df['harmonized_weight']\n",
    "del df['harmonized_weight_unit']\n",
    "\n",
    "df2 = df.groupby(['vessel_name','estimated_arrival_date']).agg({'harmonized_value' : 'sum',\n",
    "                                                          'Weight' : 'sum',\n",
    "                                                          'identifier' : lambda x: x.nunique(),\n",
    "                                                          'container_number' : lambda x: x.nunique()})\n",
    "\n",
    "df2.reset_index(inplace=True)\n",
    "\n",
    "df2.to_csv('unlading-data/vessels-2015.csv')"
   ]
  },
  {
   "cell_type": "code",
   "execution_count": 90,
   "metadata": {},
   "outputs": [],
   "source": [
    "df = pd.read_csv('unlading-data/unlading-2016.csv', usecols=[0,3,4,5,6,7,23,28,29,30])\n",
    "df['Weight'] = np.where(df['harmonized_weight_unit'] == 'Kilograms', df['harmonized_weight'] * 2.20462, df['harmonized_weight'])\n",
    "del df['harmonized_weight']\n",
    "del df['harmonized_weight_unit']\n",
    "\n",
    "df2 = df.groupby(['vessel_name','estimated_arrival_date']).agg({'harmonized_value' : 'sum',\n",
    "                                                          'Weight' : 'sum',\n",
    "                                                          'identifier' : lambda x: x.nunique(),\n",
    "                                                          'container_number' : lambda x: x.nunique()})\n",
    "\n",
    "df2.reset_index(inplace=True)\n",
    "\n",
    "df2.to_csv('unlading-data/vessels-2016.csv')"
   ]
  },
  {
   "cell_type": "code",
   "execution_count": 91,
   "metadata": {
    "collapsed": true
   },
   "outputs": [],
   "source": [
    "df = pd.read_csv('unlading-data/unlading-2017.csv', usecols=[0,3,4,5,6,7,23,28,29,30])\n",
    "df['Weight'] = np.where(df['harmonized_weight_unit'] == 'Kilograms', df['harmonized_weight'] * 2.20462, df['harmonized_weight'])\n",
    "del df['harmonized_weight']\n",
    "del df['harmonized_weight_unit']\n",
    "\n",
    "df2 = df.groupby(['vessel_name','estimated_arrival_date']).agg({'harmonized_value' : 'sum',\n",
    "                                                          'Weight' : 'sum',\n",
    "                                                          'identifier' : lambda x: x.nunique(),\n",
    "                                                          'container_number' : lambda x: x.nunique()})\n",
    "\n",
    "df2.reset_index(inplace=True)\n",
    "\n",
    "df2.to_csv('unlading-data/vessels-2017.csv')"
   ]
  },
  {
   "cell_type": "code",
   "execution_count": 92,
   "metadata": {
    "collapsed": true
   },
   "outputs": [],
   "source": [
    "df = pd.read_csv('unlading-data/unlading-2018.csv', usecols=[0,3,4,5,6,7,23,28,29,30])\n",
    "df['Weight'] = np.where(df['harmonized_weight_unit'] == 'Kilograms', df['harmonized_weight'] * 2.20462, df['harmonized_weight'])\n",
    "del df['harmonized_weight']\n",
    "del df['harmonized_weight_unit']\n",
    "\n",
    "df2 = df.groupby(['vessel_name','estimated_arrival_date']).agg({'harmonized_value' : 'sum',\n",
    "                                                          'Weight' : 'sum',\n",
    "                                                          'identifier' : lambda x: x.nunique(),\n",
    "                                                          'container_number' : lambda x: x.nunique()})\n",
    "\n",
    "df2.reset_index(inplace=True)\n",
    "\n",
    "df2.to_csv('unlading-data/vessels-2018.csv')"
   ]
  },
  {
   "cell_type": "code",
   "execution_count": 25,
   "metadata": {},
   "outputs": [],
   "source": [
    "df1 = pd.read_excel('ports-containers.xlsx', sheet_name=\"2014\", header=None, skiprows=1,names=['Country','Port','Latitude','Longitude','2014_Containers'])\n",
    "df2 = pd.read_excel('ports-containers.xlsx', sheet_name=\"2015\", header=None, skiprows=1,names=['Country','Port','Latitude','Longitude','2015_Containers'])\n",
    "df3 = pd.read_excel('ports-containers.xlsx', sheet_name=\"2016\", header=None, skiprows=1,names=['Country','Port','Latitude','Longitude','2016_Containers'])\n",
    "df4 = pd.read_excel('ports-containers.xlsx', sheet_name=\"2017\", header=None, skiprows=1,names=['Country','Port','Latitude','Longitude','2017_Containers'])\n",
    "df5 = pd.read_excel('ports-containers.xlsx', sheet_name=\"2018\", header=None, skiprows=1,names=['Country','Port','Latitude','Longitude','2018_Containers'])"
   ]
  },
  {
   "cell_type": "code",
   "execution_count": 26,
   "metadata": {},
   "outputs": [],
   "source": [
    "df = pd.merge(left=df1, right=df2, how='outer', on=['Country','Port','Latitude','Longitude'])"
   ]
  },
  {
   "cell_type": "code",
   "execution_count": 27,
   "metadata": {},
   "outputs": [],
   "source": [
    "df = pd.merge(left=df, right=df3, how='outer', on=['Country','Port','Latitude','Longitude'])"
   ]
  },
  {
   "cell_type": "code",
   "execution_count": 28,
   "metadata": {},
   "outputs": [],
   "source": [
    "df = pd.merge(left=df, right=df4, how='outer', on=['Country','Port','Latitude','Longitude'])"
   ]
  },
  {
   "cell_type": "code",
   "execution_count": 29,
   "metadata": {},
   "outputs": [],
   "source": [
    "df = pd.merge(left=df, right=df5, how='outer', on=['Country','Port','Latitude','Longitude'])"
   ]
  },
  {
   "cell_type": "code",
   "execution_count": 30,
   "metadata": {},
   "outputs": [],
   "source": [
    "df.fillna(0, inplace=True)"
   ]
  },
  {
   "cell_type": "code",
   "execution_count": 31,
   "metadata": {},
   "outputs": [],
   "source": [
    "df['Containers_2014-2018'] = df['2014_Containers'] + df['2015_Containers'] + df['2016_Containers'] + df['2017_Containers'] + df['2018_Containers']\n"
   ]
  },
  {
   "cell_type": "code",
   "execution_count": 32,
   "metadata": {},
   "outputs": [
    {
     "data": {
      "text/html": [
       "<div>\n",
       "<style scoped>\n",
       "    .dataframe tbody tr th:only-of-type {\n",
       "        vertical-align: middle;\n",
       "    }\n",
       "\n",
       "    .dataframe tbody tr th {\n",
       "        vertical-align: top;\n",
       "    }\n",
       "\n",
       "    .dataframe thead th {\n",
       "        text-align: right;\n",
       "    }\n",
       "</style>\n",
       "<table border=\"1\" class=\"dataframe\">\n",
       "  <thead>\n",
       "    <tr style=\"text-align: right;\">\n",
       "      <th></th>\n",
       "      <th>Country</th>\n",
       "      <th>Port</th>\n",
       "      <th>Latitude</th>\n",
       "      <th>Longitude</th>\n",
       "      <th>2014_Containers</th>\n",
       "      <th>2015_Containers</th>\n",
       "      <th>2016_Containers</th>\n",
       "      <th>2017_Containers</th>\n",
       "      <th>2018_Containers</th>\n",
       "      <th>Containers_2014-2018</th>\n",
       "    </tr>\n",
       "  </thead>\n",
       "  <tbody>\n",
       "    <tr>\n",
       "      <th>0</th>\n",
       "      <td>Algeria</td>\n",
       "      <td>Tenes</td>\n",
       "      <td>36.508100</td>\n",
       "      <td>1.306400</td>\n",
       "      <td>15.0</td>\n",
       "      <td>5.0</td>\n",
       "      <td>0.0</td>\n",
       "      <td>0.0</td>\n",
       "      <td>0.0</td>\n",
       "      <td>20.0</td>\n",
       "    </tr>\n",
       "    <tr>\n",
       "      <th>1</th>\n",
       "      <td>Antigua and Barbuda</td>\n",
       "      <td>St. John's</td>\n",
       "      <td>17.124300</td>\n",
       "      <td>-61.848600</td>\n",
       "      <td>897.0</td>\n",
       "      <td>0.0</td>\n",
       "      <td>0.0</td>\n",
       "      <td>0.0</td>\n",
       "      <td>0.0</td>\n",
       "      <td>897.0</td>\n",
       "    </tr>\n",
       "    <tr>\n",
       "      <th>2</th>\n",
       "      <td>Argentina</td>\n",
       "      <td>Buenos Aires</td>\n",
       "      <td>-34.613000</td>\n",
       "      <td>-58.377000</td>\n",
       "      <td>1437.0</td>\n",
       "      <td>1120.0</td>\n",
       "      <td>1305.0</td>\n",
       "      <td>1143.0</td>\n",
       "      <td>487.0</td>\n",
       "      <td>5492.0</td>\n",
       "    </tr>\n",
       "    <tr>\n",
       "      <th>3</th>\n",
       "      <td>Argentina</td>\n",
       "      <td>Rosario</td>\n",
       "      <td>-32.951000</td>\n",
       "      <td>-60.666000</td>\n",
       "      <td>2.0</td>\n",
       "      <td>1.0</td>\n",
       "      <td>10.0</td>\n",
       "      <td>2.0</td>\n",
       "      <td>2.0</td>\n",
       "      <td>17.0</td>\n",
       "    </tr>\n",
       "    <tr>\n",
       "      <th>4</th>\n",
       "      <td>Argentina</td>\n",
       "      <td>San Lorenzo</td>\n",
       "      <td>-32.747911</td>\n",
       "      <td>-60.734498</td>\n",
       "      <td>1.0</td>\n",
       "      <td>1.0</td>\n",
       "      <td>1.0</td>\n",
       "      <td>2.0</td>\n",
       "      <td>0.0</td>\n",
       "      <td>5.0</td>\n",
       "    </tr>\n",
       "  </tbody>\n",
       "</table>\n",
       "</div>"
      ],
      "text/plain": [
       "               Country          Port   Latitude  Longitude  2014_Containers  \\\n",
       "0              Algeria         Tenes  36.508100   1.306400             15.0   \n",
       "1  Antigua and Barbuda    St. John's  17.124300 -61.848600            897.0   \n",
       "2            Argentina  Buenos Aires -34.613000 -58.377000           1437.0   \n",
       "3            Argentina       Rosario -32.951000 -60.666000              2.0   \n",
       "4            Argentina   San Lorenzo -32.747911 -60.734498              1.0   \n",
       "\n",
       "   2015_Containers  2016_Containers  2017_Containers  2018_Containers  \\\n",
       "0              5.0              0.0              0.0              0.0   \n",
       "1              0.0              0.0              0.0              0.0   \n",
       "2           1120.0           1305.0           1143.0            487.0   \n",
       "3              1.0             10.0              2.0              2.0   \n",
       "4              1.0              1.0              2.0              0.0   \n",
       "\n",
       "   Containers_2014-2018  \n",
       "0                  20.0  \n",
       "1                 897.0  \n",
       "2                5492.0  \n",
       "3                  17.0  \n",
       "4                   5.0  "
      ]
     },
     "execution_count": 32,
     "metadata": {},
     "output_type": "execute_result"
    }
   ],
   "source": [
    "df.head()"
   ]
  },
  {
   "cell_type": "code",
   "execution_count": 33,
   "metadata": {},
   "outputs": [],
   "source": [
    "df.to_csv('ports-containers.csv', index=False)"
   ]
  },
  {
   "cell_type": "code",
   "execution_count": null,
   "metadata": {},
   "outputs": [],
   "source": []
  }
 ],
 "metadata": {
  "anaconda-cloud": {},
  "kernelspec": {
   "display_name": "Python 3",
   "language": "python",
   "name": "python3"
  },
  "language_info": {
   "codemirror_mode": {
    "name": "ipython",
    "version": 3
   },
   "file_extension": ".py",
   "mimetype": "text/x-python",
   "name": "python",
   "nbconvert_exporter": "python",
   "pygments_lexer": "ipython3",
   "version": "3.6.0"
  }
 },
 "nbformat": 4,
 "nbformat_minor": 1
}
