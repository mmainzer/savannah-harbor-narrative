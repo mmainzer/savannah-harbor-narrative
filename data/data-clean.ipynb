{
 "cells": [
  {
   "cell_type": "code",
   "execution_count": 70,
   "metadata": {
    "collapsed": true
   },
   "outputs": [],
   "source": [
    "import pandas as pd\n",
    "import numpy as np"
   ]
  },
  {
   "cell_type": "markdown",
   "metadata": {},
   "source": [
    "## Get summaries of shipments from foreign port of lading\n",
    "#### This will get total shipments, for each year, by the port in which cargo was originally loaded (laded)"
   ]
  },
  {
   "cell_type": "code",
   "execution_count": 2,
   "metadata": {
    "collapsed": false
   },
   "outputs": [],
   "source": [
    "df = pd.read_csv('unlading-data/unlading-2018.csv', usecols=[0, 6])"
   ]
  },
  {
   "cell_type": "code",
   "execution_count": 3,
   "metadata": {
    "collapsed": true
   },
   "outputs": [],
   "source": [
    "df2 = pd.DataFrame(df.groupby('foreign_port_of_lading').size())"
   ]
  },
  {
   "cell_type": "code",
   "execution_count": 4,
   "metadata": {
    "collapsed": false
   },
   "outputs": [],
   "source": [
    "df2.to_csv('unlading-data/unlading-2018-summary.csv')"
   ]
  },
  {
   "cell_type": "code",
   "execution_count": 5,
   "metadata": {
    "collapsed": false
   },
   "outputs": [
    {
     "data": {
      "text/html": [
       "<div>\n",
       "<table border=\"1\" class=\"dataframe\">\n",
       "  <thead>\n",
       "    <tr style=\"text-align: right;\">\n",
       "      <th></th>\n",
       "      <th>identifier</th>\n",
       "      <th>foreign_port_of_lading</th>\n",
       "    </tr>\n",
       "  </thead>\n",
       "  <tbody>\n",
       "    <tr>\n",
       "      <th>0</th>\n",
       "      <td>2017101965687</td>\n",
       "      <td>Cristobal,Panama</td>\n",
       "    </tr>\n",
       "    <tr>\n",
       "      <th>1</th>\n",
       "      <td>201710199496</td>\n",
       "      <td>Hong Kong,Hong Kong</td>\n",
       "    </tr>\n",
       "    <tr>\n",
       "      <th>2</th>\n",
       "      <td>201710199874</td>\n",
       "      <td>Yantian,China (Mainland)</td>\n",
       "    </tr>\n",
       "    <tr>\n",
       "      <th>3</th>\n",
       "      <td>201710199898</td>\n",
       "      <td>Yantian,China (Mainland)</td>\n",
       "    </tr>\n",
       "    <tr>\n",
       "      <th>4</th>\n",
       "      <td>2017102033211</td>\n",
       "      <td>Genova,Italy</td>\n",
       "    </tr>\n",
       "  </tbody>\n",
       "</table>\n",
       "</div>"
      ],
      "text/plain": [
       "      identifier    foreign_port_of_lading\n",
       "0  2017101965687          Cristobal,Panama\n",
       "1   201710199496       Hong Kong,Hong Kong\n",
       "2   201710199874  Yantian,China (Mainland)\n",
       "3   201710199898  Yantian,China (Mainland)\n",
       "4  2017102033211              Genova,Italy"
      ]
     },
     "execution_count": 5,
     "metadata": {},
     "output_type": "execute_result"
    }
   ],
   "source": [
    "df = pd.read_csv('unlading-data/unlading-2017.csv', usecols=[0, 6])\n",
    "df.head()"
   ]
  },
  {
   "cell_type": "code",
   "execution_count": 6,
   "metadata": {
    "collapsed": true
   },
   "outputs": [],
   "source": [
    "df2 = pd.DataFrame(df.groupby('foreign_port_of_lading').size())"
   ]
  },
  {
   "cell_type": "code",
   "execution_count": 7,
   "metadata": {
    "collapsed": true
   },
   "outputs": [],
   "source": [
    "df2.to_csv('unlading-data/unlading-2017-summary.csv')"
   ]
  },
  {
   "cell_type": "code",
   "execution_count": 8,
   "metadata": {
    "collapsed": true
   },
   "outputs": [],
   "source": [
    "df = pd.read_csv('unlading-data/unlading-2016.csv', usecols=[0, 6])\n",
    "df2 = pd.DataFrame(df.groupby('foreign_port_of_lading').size())\n",
    "df2.to_csv('unlading-data/unlading-2016-summary.csv')"
   ]
  },
  {
   "cell_type": "code",
   "execution_count": 9,
   "metadata": {
    "collapsed": true
   },
   "outputs": [],
   "source": [
    "df = pd.read_csv('unlading-data/unlading-2015.csv', usecols=[0, 6])\n",
    "df2 = pd.DataFrame(df.groupby('foreign_port_of_lading').size())\n",
    "df2.to_csv('unlading-data/unlading-2015-summary.csv')"
   ]
  },
  {
   "cell_type": "code",
   "execution_count": 10,
   "metadata": {
    "collapsed": false
   },
   "outputs": [],
   "source": [
    "df = pd.read_csv('unlading-data/unlading-2014.csv', usecols=[0,7])"
   ]
  },
  {
   "cell_type": "code",
   "execution_count": 11,
   "metadata": {
    "collapsed": true
   },
   "outputs": [],
   "source": [
    "df2 = pd.DataFrame(df.groupby('foreign_port_of_lading').size())\n",
    "df2.to_csv('unlading-data/unlading-2014-summary.csv')"
   ]
  },
  {
   "cell_type": "code",
   "execution_count": 46,
   "metadata": {
    "collapsed": true
   },
   "outputs": [],
   "source": [
    "# now get shipments of containers from foreign ports of lading\n",
    "df = pd.read_csv('unlading-data/unlading-2014.csv', usecols=[0, 7, 23])\n",
    "df2 = df.groupby('foreign_port_of_lading')['container_number'].nunique().reset_index()\n",
    "df2.to_csv('unlading-data/unlading-2014-summary.csv')"
   ]
  },
  {
   "cell_type": "code",
   "execution_count": 48,
   "metadata": {
    "collapsed": false
   },
   "outputs": [],
   "source": [
    "df = pd.read_csv('unlading-data/unlading-2015.csv', usecols=[0, 6, 23])\n",
    "df2 = df.groupby('foreign_port_of_lading')['container_number'].nunique().reset_index()\n",
    "df2.to_csv('unlading-data/unlading-2015-summary.csv')"
   ]
  },
  {
   "cell_type": "code",
   "execution_count": 50,
   "metadata": {
    "collapsed": true
   },
   "outputs": [],
   "source": [
    "df = pd.read_csv('unlading-data/unlading-2016.csv', usecols=[0, 6, 23])\n",
    "df2 = df.groupby('foreign_port_of_lading')['container_number'].nunique().reset_index()\n",
    "df2.to_csv('unlading-data/unlading-2016-summary.csv')"
   ]
  },
  {
   "cell_type": "code",
   "execution_count": 51,
   "metadata": {
    "collapsed": true
   },
   "outputs": [],
   "source": [
    "df = pd.read_csv('unlading-data/unlading-2017.csv', usecols=[0, 6, 23])\n",
    "df2 = df.groupby('foreign_port_of_lading')['container_number'].nunique().reset_index()\n",
    "df2.to_csv('unlading-data/unlading-2017-summary.csv')"
   ]
  },
  {
   "cell_type": "code",
   "execution_count": 52,
   "metadata": {
    "collapsed": true
   },
   "outputs": [],
   "source": [
    "df = pd.read_csv('unlading-data/unlading-2018.csv', usecols=[0, 6, 23])\n",
    "df2 = df.groupby('foreign_port_of_lading')['container_number'].nunique().reset_index()\n",
    "df2.to_csv('unlading-data/unlading-2018-summary.csv')"
   ]
  },
  {
   "cell_type": "code",
   "execution_count": 53,
   "metadata": {
    "collapsed": true
   },
   "outputs": [],
   "source": [
    "shipments = pd.read_excel('unlading-data/savannah-unlading_2014-2018.xlsx', sheetname='port-of-lading-shipments')\n",
    "containers= pd.read_excel('unlading-data/savannah-unlading_2014-2018.xlsx', sheetname='port-of-lading-containers')"
   ]
  },
  {
   "cell_type": "code",
   "execution_count": 54,
   "metadata": {
    "collapsed": true
   },
   "outputs": [],
   "source": [
    "df = pd.merge(left=shipments, right=containers, how='left', on=['Year', 'Port of Lading', 'Country of Lading'])"
   ]
  },
  {
   "cell_type": "code",
   "execution_count": 59,
   "metadata": {
    "collapsed": true
   },
   "outputs": [],
   "source": [
    "df.drop_duplicates(inplace=True)"
   ]
  },
  {
   "cell_type": "code",
   "execution_count": 60,
   "metadata": {
    "collapsed": false
   },
   "outputs": [
    {
     "data": {
      "text/plain": [
       "(1899, 4)"
      ]
     },
     "execution_count": 60,
     "metadata": {},
     "output_type": "execute_result"
    }
   ],
   "source": [
    "shipments.shape"
   ]
  },
  {
   "cell_type": "code",
   "execution_count": 62,
   "metadata": {
    "collapsed": false
   },
   "outputs": [],
   "source": [
    "df.to_excel('unlading-data/data.xlsx')"
   ]
  },
  {
   "cell_type": "markdown",
   "metadata": {
    "collapsed": true
   },
   "source": [
    "## Get summaries of shipments by foreign port of destination\n",
    "#### This will get total shipments, for each year, by the foreign port to which cargo will ultimately be delivered, if end-destination is not Savannah"
   ]
  },
  {
   "cell_type": "code",
   "execution_count": 13,
   "metadata": {
    "collapsed": false
   },
   "outputs": [],
   "source": [
    "df = pd.read_csv('unlading-data/unlading-2014.csv', usecols=[0, 10])\n",
    "df2 = pd.DataFrame(df.groupby('foreign_port_of_destination').size())\n",
    "df2.to_csv('unlading-data/destination-2014.csv')"
   ]
  },
  {
   "cell_type": "code",
   "execution_count": 25,
   "metadata": {
    "collapsed": true
   },
   "outputs": [],
   "source": [
    "df = pd.read_csv('unlading-data/unlading-2015.csv', usecols=[0, 10])\n",
    "df2 = pd.DataFrame(df.groupby('foreign_port_of_destination').size())\n",
    "df2.to_csv('unlading-data/destination-2015.csv')"
   ]
  },
  {
   "cell_type": "code",
   "execution_count": 26,
   "metadata": {
    "collapsed": false
   },
   "outputs": [],
   "source": [
    "df = pd.read_csv('unlading-data/unlading-2016.csv', usecols=[0, 10])\n",
    "df2 = pd.DataFrame(df.groupby('foreign_port_of_destination').size())\n",
    "df2.to_csv('unlading-data/destination-2016.csv')"
   ]
  },
  {
   "cell_type": "code",
   "execution_count": 27,
   "metadata": {
    "collapsed": false
   },
   "outputs": [
    {
     "name": "stderr",
     "output_type": "stream",
     "text": [
      "C:\\Users\\MTMAINZE\\AppData\\Local\\Continuum\\Anaconda2\\lib\\site-packages\\IPython\\core\\interactiveshell.py:2717: DtypeWarning: Columns (10) have mixed types. Specify dtype option on import or set low_memory=False.\n",
      "  interactivity=interactivity, compiler=compiler, result=result)\n"
     ]
    }
   ],
   "source": [
    "df = pd.read_csv('unlading-data/unlading-2017.csv', usecols=[0, 10])\n",
    "df2 = pd.DataFrame(df.groupby('foreign_port_of_destination').size())\n",
    "df2.to_csv('unlading-data/destination-2017.csv')"
   ]
  },
  {
   "cell_type": "code",
   "execution_count": 28,
   "metadata": {
    "collapsed": true
   },
   "outputs": [],
   "source": [
    "df = pd.read_csv('unlading-data/unlading-2018.csv', usecols=[0, 10])\n",
    "df2 = pd.DataFrame(df.groupby('foreign_port_of_destination').size())\n",
    "df2.to_csv('unlading-data/destination-2018.csv')"
   ]
  },
  {
   "cell_type": "markdown",
   "metadata": {},
   "source": [
    "## Get summaries of shipments by domestic port of destination\n",
    "#### This will get total shipments, for each year, by the domestic port to which cargo will ultimately be delivered, if end-destination is not Savannah"
   ]
  },
  {
   "cell_type": "code",
   "execution_count": 32,
   "metadata": {
    "collapsed": false
   },
   "outputs": [],
   "source": [
    "df = pd.read_csv('unlading-data/unlading-2014.csv', usecols=[0, 9])\n",
    "df2 = pd.DataFrame(df.groupby('port_of_destination').size())\n",
    "df2.to_csv('unlading-data/destination-2014.csv')"
   ]
  },
  {
   "cell_type": "code",
   "execution_count": 33,
   "metadata": {
    "collapsed": false
   },
   "outputs": [],
   "source": [
    "df = pd.read_csv('unlading-data/unlading-2015.csv', usecols=[0, 9])\n",
    "df2 = pd.DataFrame(df.groupby('port_of_destination').size())\n",
    "df2.to_csv('unlading-data/destination-2015.csv')"
   ]
  },
  {
   "cell_type": "code",
   "execution_count": 34,
   "metadata": {
    "collapsed": true
   },
   "outputs": [],
   "source": [
    "df = pd.read_csv('unlading-data/unlading-2016.csv', usecols=[0, 9])\n",
    "df2 = pd.DataFrame(df.groupby('port_of_destination').size())\n",
    "df2.to_csv('unlading-data/destination-2016.csv')"
   ]
  },
  {
   "cell_type": "code",
   "execution_count": 35,
   "metadata": {
    "collapsed": true
   },
   "outputs": [],
   "source": [
    "df = pd.read_csv('unlading-data/unlading-2017.csv', usecols=[0, 9])\n",
    "df2 = pd.DataFrame(df.groupby('port_of_destination').size())\n",
    "df2.to_csv('unlading-data/destination-2017.csv')"
   ]
  },
  {
   "cell_type": "code",
   "execution_count": 36,
   "metadata": {
    "collapsed": true
   },
   "outputs": [],
   "source": [
    "df = pd.read_csv('unlading-data/unlading-2018.csv', usecols=[0, 9])\n",
    "df2 = pd.DataFrame(df.groupby('port_of_destination').size())\n",
    "df2.to_csv('unlading-data/destination-2018.csv')"
   ]
  },
  {
   "cell_type": "markdown",
   "metadata": {},
   "source": [
    "## Get summaries of shipments by vessel call\n",
    "#### This will get a sum of containers, weight, and harmonized value by a vessel on a particular day"
   ]
  },
  {
   "cell_type": "code",
   "execution_count": 86,
   "metadata": {
    "collapsed": true
   },
   "outputs": [],
   "source": [
    "df = pd.read_csv('unlading-data/unlading-2014.csv', usecols=[0,4,5,6,7,23,28,29,30])\n",
    "df['Weight'] = np.where(df['harmonized_weight_unit'] == 'Kilograms', df['harmonized_weight'] * 2.20462, df['harmonized_weight'])\n",
    "del df['harmonized_weight']\n",
    "del df['harmonized_weight_unit']\n",
    "\n",
    "df2 = df.groupby(['vessel_name','estimated_arrival_date']).agg({'harmonized_value' : 'sum',\n",
    "                                                          'Weight' : 'sum',\n",
    "                                                          'identifier' : lambda x: x.nunique(),\n",
    "                                                          'container_number' : lambda x: x.nunique()})\n",
    "\n",
    "df2.reset_index(inplace=True)\n",
    "\n",
    "df2.to_csv('unlading-data/vessels-2014.csv')"
   ]
  },
  {
   "cell_type": "code",
   "execution_count": 88,
   "metadata": {
    "collapsed": false
   },
   "outputs": [],
   "source": [
    "df = pd.read_csv('unlading-data/unlading-2015.csv', usecols=[0,3,4,5,6,7,23,28,29,30])\n",
    "df['Weight'] = np.where(df['harmonized_weight_unit'] == 'Kilograms', df['harmonized_weight'] * 2.20462, df['harmonized_weight'])\n",
    "del df['harmonized_weight']\n",
    "del df['harmonized_weight_unit']\n",
    "\n",
    "df2 = df.groupby(['vessel_name','estimated_arrival_date']).agg({'harmonized_value' : 'sum',\n",
    "                                                          'Weight' : 'sum',\n",
    "                                                          'identifier' : lambda x: x.nunique(),\n",
    "                                                          'container_number' : lambda x: x.nunique()})\n",
    "\n",
    "df2.reset_index(inplace=True)\n",
    "\n",
    "df2.to_csv('unlading-data/vessels-2015.csv')"
   ]
  },
  {
   "cell_type": "code",
   "execution_count": 90,
   "metadata": {
    "collapsed": false
   },
   "outputs": [],
   "source": [
    "df = pd.read_csv('unlading-data/unlading-2016.csv', usecols=[0,3,4,5,6,7,23,28,29,30])\n",
    "df['Weight'] = np.where(df['harmonized_weight_unit'] == 'Kilograms', df['harmonized_weight'] * 2.20462, df['harmonized_weight'])\n",
    "del df['harmonized_weight']\n",
    "del df['harmonized_weight_unit']\n",
    "\n",
    "df2 = df.groupby(['vessel_name','estimated_arrival_date']).agg({'harmonized_value' : 'sum',\n",
    "                                                          'Weight' : 'sum',\n",
    "                                                          'identifier' : lambda x: x.nunique(),\n",
    "                                                          'container_number' : lambda x: x.nunique()})\n",
    "\n",
    "df2.reset_index(inplace=True)\n",
    "\n",
    "df2.to_csv('unlading-data/vessels-2016.csv')"
   ]
  },
  {
   "cell_type": "code",
   "execution_count": 91,
   "metadata": {
    "collapsed": true
   },
   "outputs": [],
   "source": [
    "df = pd.read_csv('unlading-data/unlading-2017.csv', usecols=[0,3,4,5,6,7,23,28,29,30])\n",
    "df['Weight'] = np.where(df['harmonized_weight_unit'] == 'Kilograms', df['harmonized_weight'] * 2.20462, df['harmonized_weight'])\n",
    "del df['harmonized_weight']\n",
    "del df['harmonized_weight_unit']\n",
    "\n",
    "df2 = df.groupby(['vessel_name','estimated_arrival_date']).agg({'harmonized_value' : 'sum',\n",
    "                                                          'Weight' : 'sum',\n",
    "                                                          'identifier' : lambda x: x.nunique(),\n",
    "                                                          'container_number' : lambda x: x.nunique()})\n",
    "\n",
    "df2.reset_index(inplace=True)\n",
    "\n",
    "df2.to_csv('unlading-data/vessels-2017.csv')"
   ]
  },
  {
   "cell_type": "code",
   "execution_count": 92,
   "metadata": {
    "collapsed": true
   },
   "outputs": [],
   "source": [
    "df = pd.read_csv('unlading-data/unlading-2018.csv', usecols=[0,3,4,5,6,7,23,28,29,30])\n",
    "df['Weight'] = np.where(df['harmonized_weight_unit'] == 'Kilograms', df['harmonized_weight'] * 2.20462, df['harmonized_weight'])\n",
    "del df['harmonized_weight']\n",
    "del df['harmonized_weight_unit']\n",
    "\n",
    "df2 = df.groupby(['vessel_name','estimated_arrival_date']).agg({'harmonized_value' : 'sum',\n",
    "                                                          'Weight' : 'sum',\n",
    "                                                          'identifier' : lambda x: x.nunique(),\n",
    "                                                          'container_number' : lambda x: x.nunique()})\n",
    "\n",
    "df2.reset_index(inplace=True)\n",
    "\n",
    "df2.to_csv('unlading-data/vessels-2018.csv')"
   ]
  },
  {
   "cell_type": "code",
   "execution_count": null,
   "metadata": {
    "collapsed": true
   },
   "outputs": [],
   "source": []
  }
 ],
 "metadata": {
  "anaconda-cloud": {},
  "kernelspec": {
   "display_name": "Python [conda root]",
   "language": "python",
   "name": "conda-root-py"
  },
  "language_info": {
   "codemirror_mode": {
    "name": "ipython",
    "version": 2
   },
   "file_extension": ".py",
   "mimetype": "text/x-python",
   "name": "python",
   "nbconvert_exporter": "python",
   "pygments_lexer": "ipython2",
   "version": "2.7.12"
  }
 },
 "nbformat": 4,
 "nbformat_minor": 1
}
